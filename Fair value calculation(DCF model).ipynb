{
 "cells": [
  {
   "cell_type": "markdown",
   "id": "a376dd5e-adb7-4938-a1e4-c689c0d0d0e0",
   "metadata": {},
   "source": [
    "Data needed is of:\n",
    "\n",
    "Free cash flow, Net debt, Growth rate, Current market price(CMP), number of shares, terminal growth rate\n",
    "\n",
    "\n"
   ]
  },
  {
   "cell_type": "markdown",
   "id": "a2292585-fd1b-4ba1-9665-6a1093ee3cdf",
   "metadata": {},
   "source": [
    "All of the required data is available from the Yahoo Finance Library and can be fetched easily \n",
    "\n",
    "**Understanding with the example of Blackstone (BX)** "
   ]
  },
  {
   "cell_type": "code",
   "execution_count": 57,
   "id": "1a032f41-cb9f-4d08-8135-77d4596daa62",
   "metadata": {},
   "outputs": [
    {
     "name": "stdout",
     "output_type": "stream",
     "text": [
      "Free cash flow of BX is: 610.0756 cr\n",
      "Net Debt OF BX is: 818.7525 cr\n",
      "Growth rate for first 5 years of BX is: 11.26%\n",
      "Growth rate for next 5 years of BX is: 5.63%\n",
      "Current market price (CMP) for BX: 112.92\n",
      "Number of Shares of BX: 70.9750016 cr\n"
     ]
    }
   ],
   "source": [
    "#getting all the required data\n",
    "\n",
    "import yfinance as yf\n",
    "from yahoo_fin import stock_info as si\n",
    "\n",
    "# Create a Ticker object for the company\n",
    "ticker_symbol = \"BX\"\n",
    "company = yf.Ticker(ticker_symbol)\n",
    "\n",
    "# Get the casflow statement for free cash flow\n",
    "cash_flow = company.cashflow.loc['Free Cash Flow']\n",
    "free_Cash_flow=cash_flow.iloc[0]\n",
    "free_Cash_flow_cr=free_Cash_flow/10000000\n",
    "print(f\"Free cash flow of {ticker_symbol} is: {free_Cash_flow_cr} cr\")\n",
    "\n",
    "#net debt of the company\n",
    "balancesheet = company.balancesheet\n",
    "\n",
    "try:\n",
    "    net_debt = balancesheet.loc['Net Debt'].iloc[0]\n",
    "    net_debt_cr=net_debt/10000000\n",
    "    print(F\"Net Debt OF {ticker_symbol} is: {net_debt_cr} cr\")\n",
    "\n",
    "except Exception as e:\n",
    "    print(\"Error:\", str(e))\n",
    "\n",
    "#growth rate of the company from the analysis section of the Yahoo finance\n",
    "analysis = si.get_analysts_info(ticker_symbol)\n",
    "\n",
    "# Retrieve the growth rate as a string\n",
    "Growth_Estimates = analysis['Growth Estimates']\n",
    "growth_dict = Growth_Estimates.to_dict()\n",
    "growth_rate_str = growth_dict[ticker_symbol][4]\n",
    "\n",
    "# Remove the percentage symbol and convert to a float\n",
    "growth_rate_float = float(growth_rate_str.strip('%'))\n",
    "\n",
    "# Convert the percentage to its decimal equivalent\n",
    "growth_rate = growth_rate_float / 100\n",
    "\n",
    "#growth rate for the first five years is same \n",
    "growth_rate_first_5_years=growth_rate\n",
    "print(f\"Growth rate for first 5 years of {ticker_symbol} is: {growth_rate_first_5_years*100}%\")\n",
    "\n",
    "#growth rate for the next five years is half of the prior growth rate\n",
    "growth_rate_next_5_years =growth_rate_first_5_years/2\n",
    "print(f\"Growth rate for next 5 years of {ticker_symbol} is: {growth_rate_next_5_years * 100}%\")\n",
    "\n",
    "# Getting the current market price (CMP)\n",
    "current_price = company.history(period=\"1d\")[\"Close\"].iloc[-1]\n",
    "print(f\"Current market price (CMP) for {ticker_symbol}: {current_price:.2f}\")\n",
    "\n",
    "# the number of shares outstanding\n",
    "no_of_shares = company.info.get(\"sharesOutstanding\")\n",
    "no_of_shares_cr=no_of_shares/10000000\n",
    "if no_of_shares is not None:\n",
    "    print(f\"Number of Shares of {ticker_symbol}: {no_of_shares_cr} cr\")\n",
    "else:\n",
    "    print(f\"Number of Shares data not available for {ticker_symbol}\")\n",
    "\n",
    "# Terminal growth rate (5%) (the default rate at which the economy of the country is growing)\n",
    "terminal_rate = 0.05   \n",
    "\n",
    "# Number of years on which we want to perform the dcf\n",
    "years = 10             \n",
    "\n"
   ]
  },
  {
   "cell_type": "markdown",
   "id": "589518a8-4a7e-406d-b06b-41ca31f6a7c3",
   "metadata": {},
   "source": [
    "**Discount rate data**\n",
    "\n",
    "#specified earlier\n",
    "The discount rate for BLACKSTONE (BX) is 13.30%"
   ]
  },
  {
   "cell_type": "markdown",
   "id": "ef671f0b-9593-4491-9d63-c033bc0c8989",
   "metadata": {},
   "source": [
    "**Now after collecting the necessary let's data dive deep in the main part of the DCF valuation i.e forcasting the future free cash flow** "
   ]
  },
  {
   "cell_type": "markdown",
   "id": "57b3e870-3ec6-43f1-8fcf-d4c62218e7e3",
   "metadata": {},
   "source": [
    "First forcast the future cash flow with the \"Time value of money\" \n",
    "\n",
    "The time value of money (TVM) is the concept that a sum of money is worth more now than the same sum will be at a future date due to its earnings potential in the interim. (Investopedia)\n",
    "\n",
    "Then get the present value of the money from forcasted cash flow and calculating the termianl value that is value beyond the forcasted period with the help of terminal growth rate and also getting the present value of the termianl vlaue using the same discount rate."
   ]
  },
  {
   "cell_type": "code",
   "execution_count": 58,
   "id": "8a89f95e-5556-4049-bb19-6098e89c87f5",
   "metadata": {},
   "outputs": [
    {
     "name": "stdout",
     "output_type": "stream",
     "text": [
      "Year 1: Future Value = 678.77 cr, Present Value = 606.04 cr\n",
      "Year 2: Future Value = 755.20 cr, Present Value = 602.04 cr\n",
      "Year 3: Future Value = 840.24 cr, Present Value = 598.06 cr\n",
      "Year 4: Future Value = 934.85 cr, Present Value = 594.11 cr\n",
      "Year 5: Future Value = 1040.11 cr, Present Value = 590.19 cr\n",
      "Year 6: Future Value = 1098.67 cr, Present Value = 556.62 cr\n",
      "Year 7: Future Value = 1160.52 cr, Present Value = 524.96 cr\n",
      "Year 8: Future Value = 1225.86 cr, Present Value = 495.10 cr\n",
      "Year 9: Future Value = 1294.88 cr, Present Value = 466.95 cr\n",
      "Year 10: Future Value = 1367.78 cr, Present Value = 440.39 cr\n",
      "\n",
      "Total Future Value after 10 years = 10396.86 cr\n",
      "\n",
      "Total Present Value at a discount rate of 12.00% = 5474.46 cr\n",
      "\n",
      "Terminal Value at a terminal rate of 5.0% = 15825.15 cr\n",
      "\n",
      "Present Value of Terminal Value = 5095.27 cr\n"
     ]
    }
   ],
   "source": [
    "\n",
    "# Initialize the total future value, total present value, terminal value, and present value of the terminal value\n",
    "\n",
    "total_future_value = 0\n",
    "total_present_value = 0\n",
    "terminal_value = 0\n",
    "present_value_terminal = 0\n",
    "discount_rate=0.12 #13.3%\n",
    "\n",
    "# Calculate the future value and present value for each year, and calculate the total the totals\n",
    "for year in range(1, years + 1):\n",
    "\n",
    "    #first calculating for the first five years\n",
    "    if year <= 5:\n",
    "        future_value = free_Cash_flow_cr * (1 + growth_rate_first_5_years) ** year\n",
    "        cash_flow_year_5 =free_Cash_flow_cr * (1 + growth_rate_first_5_years) **5\n",
    "\n",
    "    #for next five years at different growth rate\n",
    "    \n",
    "    else:\n",
    "        future_value = cash_flow_year_5 * (1 + growth_rate_next_5_years) ** (year-5)\n",
    "    total_future_value += future_value\n",
    "\n",
    "    #Calculating the present value of the future cash with the discount rate\n",
    "    \n",
    "    present_value_year = future_value / ((1 + discount_rate) ** year)\n",
    "    total_present_value += present_value_year\n",
    "    print(f\"Year {year}: Future Value = {future_value:.2f} cr, Present Value = {present_value_year:.2f} cr\")\n",
    "    \n",
    "# Calculate the terminal value\n",
    "cash_flow_year_10 = free_Cash_flow_cr * (1 + growth_rate_next_5_years) ** years  # Using the second interest rate for year 10\n",
    "terminal_value = (cash_flow_year_10 * (1 + terminal_rate)) / (discount_rate - terminal_rate)\n",
    "\n",
    "# Calculate the present value of the terminal value\n",
    "present_value_terminal = terminal_value / ((1 + discount_rate) ** years)\n",
    "\n",
    "\n",
    "# Display the total future value, total present value, terminal value, and present value of the terminal value\n",
    "print(f\"\\nTotal Future Value after {years} years = {total_future_value:.2f} cr\")\n",
    "print(f\"\\nTotal Present Value at a discount rate of {discount_rate*100:.2f}% = {total_present_value:.2f} cr\")\n",
    "print(f\"\\nTerminal Value at a terminal rate of {terminal_rate * 100}% = {terminal_value:.2f} cr\")\n",
    "print(f\"\\nPresent Value of Terminal Value = {present_value_terminal:.2f} cr\")"
   ]
  },
  {
   "cell_type": "markdown",
   "id": "2b9e30c6-ab8e-4bbe-b4e3-94c3a21b2165",
   "metadata": {},
   "source": [
    "**Now get the totsl present value including the present value of the terminal value**"
   ]
  },
  {
   "cell_type": "code",
   "execution_count": 59,
   "id": "ba3e07f2-a787-40ef-8332-800d0ff779ad",
   "metadata": {},
   "outputs": [
    {
     "name": "stdout",
     "output_type": "stream",
     "text": [
      "Total Present Value of free cash flows including Terminal Value = 10569.74 cr\n"
     ]
    }
   ],
   "source": [
    "# Calculate and display the total present value including the terminal value\n",
    "total_present_value_with_terminal = total_present_value + present_value_terminal\n",
    "print(f\"Total Present Value of free cash flows including Terminal Value = {total_present_value_with_terminal:.2f} cr\")\n"
   ]
  },
  {
   "cell_type": "markdown",
   "id": "9a85f94e-2ce7-4110-aa09-2cd29827448e",
   "metadata": {},
   "source": [
    "**Get the net present value of free cash floe i.e total-net debt**"
   ]
  },
  {
   "cell_type": "code",
   "execution_count": 60,
   "id": "c1896c5a-c547-4a0e-b648-2996a2ae93a9",
   "metadata": {},
   "outputs": [
    {
     "name": "stdout",
     "output_type": "stream",
     "text": [
      "Net present value of free cash flows of BX is: 9750.98 cr\n"
     ]
    }
   ],
   "source": [
    "#subtract the value of the net debt from the total present value of free cash flows\n",
    "\n",
    "net_present_value_of_free_cash_flows= total_present_value_with_terminal-net_debt_cr\n",
    "print(f\"Net present value of free cash flows of {ticker_symbol} is: {net_present_value_of_free_cash_flows:.2f} cr\" )"
   ]
  },
  {
   "cell_type": "markdown",
   "id": "41dbf75c-c64b-4639-9cee-0ecb6d66cec5",
   "metadata": {},
   "source": [
    "**Now, the ending part calculating the fair value of stock i.e net present value/no of shares**"
   ]
  },
  {
   "cell_type": "code",
   "execution_count": 61,
   "id": "70471e21-1e62-48ac-a45d-26d4d6b95da1",
   "metadata": {},
   "outputs": [
    {
     "name": "stdout",
     "output_type": "stream",
     "text": [
      "Fair value of the BX is: $137.39\n"
     ]
    }
   ],
   "source": [
    "\n",
    "fair_value=net_present_value_of_free_cash_flows/no_of_shares_cr\n",
    "print(f\"Fair value of the {ticker_symbol} is: ${fair_value:.2f}\")\n"
   ]
  },
  {
   "cell_type": "markdown",
   "id": "fe943da8-b2bc-40a9-a3be-7cc3cd358f20",
   "metadata": {},
   "source": [
    "**Conclusion**"
   ]
  },
  {
   "cell_type": "code",
   "execution_count": 62,
   "id": "df038320-f24d-45d9-ab77-da62635c6117",
   "metadata": {},
   "outputs": [
    {
     "name": "stdout",
     "output_type": "stream",
     "text": [
      "BX is undervalued according to DCF analysis\n"
     ]
    }
   ],
   "source": [
    "if current_price>fair_value:\n",
    "    print(f\"{ticker_symbol} is overvalued according to DCF analysis\")\n",
    "\n",
    "else:\n",
    "    print(f\"{ticker_symbol} is undervalued according to DCF analysis\")"
   ]
  },
  {
   "cell_type": "code",
   "execution_count": null,
   "id": "0a68ddcb-763b-4909-b896-1d108d08b262",
   "metadata": {},
   "outputs": [],
   "source": []
  }
 ],
 "metadata": {
  "kernelspec": {
   "display_name": "Python 3 (ipykernel)",
   "language": "python",
   "name": "python3"
  },
  "language_info": {
   "codemirror_mode": {
    "name": "ipython",
    "version": 3
   },
   "file_extension": ".py",
   "mimetype": "text/x-python",
   "name": "python",
   "nbconvert_exporter": "python",
   "pygments_lexer": "ipython3",
   "version": "3.11.4"
  }
 },
 "nbformat": 4,
 "nbformat_minor": 5
}
