{
 "cells": [
  {
   "cell_type": "markdown",
   "id": "c9013c47-8885-4922-a416-6ba3262eda4b",
   "metadata": {},
   "source": [
    "**Result after doing the DCF valuation of the top 10 holdings of the Trexquant Investment LP**"
   ]
  },
  {
   "cell_type": "markdown",
   "id": "4f6fbb80-0623-46fd-8dd3-1eb7e1cb1f70",
   "metadata": {},
   "source": [
    "First, the top 10 holdings of the Trexquant are:\n",
    "\n",
    "NVIDIA Corporation (NVDA),\n",
    "  The Coca-Cola Company (KO),\n",
    "  Humana Inc. (HUM),\n",
    "  Applied Materials, Inc. (AMAT),\n",
    "  Oracle Corporation (ORCL),\n",
    "  Apple Inc. (AAPL),\n",
    "  Enphase Energy, Inc. (ENPH),\n",
    "  Bristol-Myers Squibb Company (BMY),\n",
    "  IDEXX Laboratories, Inc. (IDXX)\n",
    "\n"
   ]
  },
  {
   "cell_type": "markdown",
   "id": "bcb7ff2d-d807-498c-8e8f-2d17de939914",
   "metadata": {},
   "source": [
    "**CONCLUSION**"
   ]
  },
  {
   "cell_type": "markdown",
   "id": "9bcdda5d-081c-48a8-a391-f7f4e1cd62d8",
   "metadata": {},
   "source": [
    "NVDA, KO, AMAT, ORCL, AAPL, and IDXX are overvalued according to DCF analysis\n",
    "\n",
    "HUM, PYPL, ENPH, and BMY are undervalued according to DCF analysis\n",
    "\n",
    "Six stocks are overvalued and four undervalued\n"
   ]
  },
  {
   "cell_type": "markdown",
   "id": "18692321-1310-4323-9ecf-ddc5ed8dcd7b",
   "metadata": {},
   "source": [
    "**THE END**"
   ]
  }
 ],
 "metadata": {
  "kernelspec": {
   "display_name": "Python 3 (ipykernel)",
   "language": "python",
   "name": "python3"
  },
  "language_info": {
   "codemirror_mode": {
    "name": "ipython",
    "version": 3
   },
   "file_extension": ".py",
   "mimetype": "text/x-python",
   "name": "python",
   "nbconvert_exporter": "python",
   "pygments_lexer": "ipython3",
   "version": "3.11.4"
  }
 },
 "nbformat": 4,
 "nbformat_minor": 5
}
