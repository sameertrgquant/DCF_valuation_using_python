{
 "cells": [
  {
   "cell_type": "markdown",
   "id": "1679776f-662c-473d-b142-c66019a32e57",
   "metadata": {},
   "source": [
    "**The discount rate of any company is calculated by the weighted average cost of capiatal(WACC) method**\n",
    "\n",
    "The formula for calculating WACC is as follows:\n",
    "\n",
    "**WACC = (E/V * Re) + (D/V * Rd * (1 - Tc))**\n",
    "\n",
    "E = Market value of the company's equityt y\r\n",
    "D = Market value of the company's d\n",
    " V = Total market value of the company (E + D)\n",
    " Re = Cost of equitye bt\r\n",
    "Rd = Cost of d ebt\r\n",
    "Tc = Corporate tax\n",
    " rate"
   ]
  },
  {
   "cell_type": "markdown",
   "id": "275d9382-1645-4280-896f-cffa4b8ee1de",
   "metadata": {},
   "source": [
    "Getting all of the required data from the yahoo fiance library for calculating the above required terms "
   ]
  },
  {
   "cell_type": "code",
   "execution_count": null,
   "id": "83107762-8552-4ae7-985a-48f769353181",
   "metadata": {},
   "outputs": [],
   "source": [
    "import yfinance as yf\n",
    "\n",
    "# Create a Ticker object for the company you're interested in (e.g., Apple)\n",
    "ticker_symbol = \"MSFT\"\n",
    "company = yf.Ticker(ticker_symbol)\n",
    "\n",
    "# Get the company's info\n",
    "info = company.info\n",
    "\n",
    "# Get the market capitalization\n",
    "if 'marketCap' in info:\n",
    "    market_cap = info['marketCap']\n",
    "    print(f\"The market capitalization for {ticker_symbol} is {market_cap}\")\n",
    "\n",
    "# Get the total debt\n",
    "if 'totalDebt' in info:\n",
    "    total_debt = info['totalDebt']\n",
    "    print(f\"The total debt for {ticker_symbol} is {total_debt}\")\n",
    "\n",
    "if 'beta' in info:\n",
    "    beta = company.info[\"beta\"]\n",
    "    print(f\"The beta of {ticker_symbol} is: {beta}\")\n",
    "\n",
    "# Get the interest expense\n",
    "income_statement = company.financials.loc['Interest Expense']\n",
    "interest_expense = income_statement.iloc[0]\n",
    "print(f\"The interest expense for {ticker_symbol} is: {interest_expense}\")\n",
    "\n",
    "# Define the 10-year Treasury yield symbol\n",
    "treasury_yield_symbol = \"^TNX\"\n",
    "\n",
    "# Create a Ticker object for the 10-year Treasury yield\n",
    "treasury_yield = yf.Ticker(treasury_yield_symbol)\n",
    "\n",
    "# Get historical data for the 10-year Treasury yield\n",
    "treasury_data = treasury_yield.history(period=\"1d\")\n",
    "\n",
    "# Check if the data is not empty\n",
    "if not treasury_data.empty:\n",
    "    # Get the most recent 10-year Treasury yield (risk-free rate)\n",
    "    risk_free_rate = treasury_data['Close'].iloc[-1]\n",
    "    print(f\"The 10-year Treasury bond yield (risk-free rate) is: {risk_free_rate}\")\n",
    "else:\n",
    "    risk_free_rate = 0.0425  # Set a default risk-free rate if no data is found\n",
    "    print(f\"No price data found for the 10-year Treasury yield. Using a default value. {risk_free_rate}\")\n"
   ]
  },
  {
   "cell_type": "markdown",
   "id": "72984cad-2b01-4039-a387-31aa7fb653d0",
   "metadata": {},
   "source": [
    "Calculating first ratio that is weight of equity"
   ]
  },
  {
   "cell_type": "code",
   "execution_count": null,
   "id": "41b8903e-267f-4de0-a1a1-0edd51917596",
   "metadata": {},
   "outputs": [],
   "source": [
    "#weight of equity= e/e+d\n",
    "\n",
    "weight_of_equity= (market_cap/(market_cap+total_debt))\n",
    "weight_of_equity"
   ]
  },
  {
   "cell_type": "markdown",
   "id": "547bd65a-585f-46d9-be0d-520b738d11de",
   "metadata": {},
   "source": [
    "Calculating cost of equity i.e (risk_free_rate+beta*equity_risk_premium), risk free rate (10 year government bond yield) "
   ]
  },
  {
   "cell_type": "code",
   "execution_count": null,
   "id": "da6eea04-f1c2-41c7-a32c-1f70b47ac512",
   "metadata": {},
   "outputs": [],
   "source": [
    "#cost of equity\n",
    "\n",
    "equity_risk_premium= 5.00 #source=(https://pages.stern.nyu.edu/~adamodar/New_Home_Page/datafile/ctryprem.html)\n",
    "risk_free_rate=7.11\n",
    "\n",
    "cost_of_equity=(risk_free_rate+beta*equity_risk_premium)/100\n",
    "cost_of_equity\n"
   ]
  },
  {
   "cell_type": "markdown",
   "id": "41186f35-6ef9-448c-b9ca-9075fb6c3a88",
   "metadata": {},
   "source": [
    "Calculating the weight of debt"
   ]
  },
  {
   "cell_type": "code",
   "execution_count": null,
   "id": "ae3d7781-2ac6-4c68-8701-3bea5d43a2b5",
   "metadata": {},
   "outputs": [],
   "source": [
    "#weight of debt = d/e+d\n",
    "\n",
    "weight_of_debt= (total_debt/(market_cap+total_debt))\n",
    "weight_of_debt\n"
   ]
  },
  {
   "cell_type": "markdown",
   "id": "0aec33c9-8a52-4dd9-a3b1-8fe92f026d6a",
   "metadata": {},
   "source": [
    "calculating the cost of debt i.e,  interest expense/total debt(1-tax rate)"
   ]
  },
  {
   "cell_type": "code",
   "execution_count": null,
   "id": "d87b1fe5-56ca-4a83-895c-b3f283eec37a",
   "metadata": {},
   "outputs": [],
   "source": [
    "#cost of debt = (interest/total debt)(1-tax rate)\n",
    "\n",
    "tax_rate=0.21 #corporate tax rate of US\n",
    "cost_of_debt= (interest_expense/total_debt)*(1-tax_rate)\n",
    "cost_of_debt\n"
   ]
  },
  {
   "cell_type": "markdown",
   "id": "5ee546d5-be27-4027-b1b5-607cb4ce489f",
   "metadata": {},
   "source": [
    "Putting the values in formula "
   ]
  },
  {
   "cell_type": "code",
   "execution_count": null,
   "id": "df3c6637-eedb-49e3-ad55-1ec763dab44f",
   "metadata": {},
   "outputs": [],
   "source": [
    "Discount_rate = round((weight_of_debt*cost_of_debt+weight_of_equity*cost_of_equity)*100,2)\n",
    "print(f\"The discount rate for {ticker_symbol} is {Discount_rate}%\")"
   ]
  },
  {
   "cell_type": "code",
   "execution_count": null,
   "id": "7773fedd-2814-4dc2-b1f8-43cab87a29da",
   "metadata": {},
   "outputs": [],
   "source": []
  },
  {
   "cell_type": "code",
   "execution_count": null,
   "id": "c6fa23db-7772-4ffa-83c9-899924a4ee49",
   "metadata": {},
   "outputs": [],
   "source": []
  },
  {
   "cell_type": "code",
   "execution_count": null,
   "id": "0ad59e7f-4ee7-4978-8bb2-47740c6ea383",
   "metadata": {},
   "outputs": [],
   "source": []
  }
 ],
 "metadata": {
  "kernelspec": {
   "display_name": "Python 3 (ipykernel)",
   "language": "python",
   "name": "python3"
  },
  "language_info": {
   "codemirror_mode": {
    "name": "ipython",
    "version": 3
   },
   "file_extension": ".py",
   "mimetype": "text/x-python",
   "name": "python",
   "nbconvert_exporter": "python",
   "pygments_lexer": "ipython3",
   "version": "3.11.4"
  }
 },
 "nbformat": 4,
 "nbformat_minor": 5
}
