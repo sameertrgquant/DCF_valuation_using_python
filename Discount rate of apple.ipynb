{
 "cells": [
  {
   "cell_type": "code",
   "execution_count": 1,
   "id": "8590f347-f9b5-462d-9517-3ee8e605855e",
   "metadata": {},
   "outputs": [
    {
     "name": "stdout",
     "output_type": "stream",
     "text": [
      "The market capitalization for AAPL is 2744739954688\n",
      "The total debt for AAPL is 109280002048\n",
      "The beta of AAPL is: 1.274896\n",
      "The interest expense for AAPL is: 2931000000.0\n",
      "The 10-year Treasury bond yield (risk-free rate) is: 4.288000106811523\n"
     ]
    }
   ],
   "source": [
    "import yfinance as yf\n",
    "\n",
    "# Create a Ticker object for the company you're interested in (e.g., Apple)\n",
    "ticker_symbol = \"AAPL\"\n",
    "company = yf.Ticker(ticker_symbol)\n",
    "\n",
    "# Get the company's info\n",
    "info = company.info\n",
    "\n",
    "# Get the market capitalization\n",
    "if 'marketCap' in info:\n",
    "    market_cap = info['marketCap']\n",
    "    print(f\"The market capitalization for {ticker_symbol} is {market_cap}\")\n",
    "\n",
    "# Get the total debt\n",
    "if 'totalDebt' in info:\n",
    "    total_debt = info['totalDebt']\n",
    "    print(f\"The total debt for {ticker_symbol} is {total_debt}\")\n",
    "\n",
    "if 'beta' in info:\n",
    "    beta = company.info[\"beta\"]\n",
    "    print(f\"The beta of {ticker_symbol} is: {beta}\")\n",
    "\n",
    "# Get the interest expense\n",
    "income_statement = company.financials.loc['Interest Expense']\n",
    "interest_expense = income_statement.iloc[0]\n",
    "print(f\"The interest expense for {ticker_symbol} is: {interest_expense}\")\n",
    "\n",
    "# Define the 10-year Treasury yield symbol\n",
    "treasury_yield_symbol = \"^TNX\"\n",
    "\n",
    "# Create a Ticker object for the 10-year Treasury yield\n",
    "treasury_yield = yf.Ticker(treasury_yield_symbol)\n",
    "\n",
    "# Get historical data for the 10-year Treasury yield\n",
    "treasury_data = treasury_yield.history(period=\"1d\")\n",
    "\n",
    "# Check if the data is not empty\n",
    "if not treasury_data.empty:\n",
    "    # Get the most recent 10-year Treasury yield (risk-free rate)\n",
    "    risk_free_rate = treasury_data['Close'].iloc[-1]\n",
    "    print(f\"The 10-year Treasury bond yield (risk-free rate) is: {risk_free_rate}\")\n",
    "else:\n",
    "    risk_free_rate = 0.0425  # Set a default risk-free rate if no data is found\n",
    "    print(f\"No price data found for the 10-year Treasury yield. Using a default value. {risk_free_rate}\")\n"
   ]
  },
  {
   "cell_type": "code",
   "execution_count": 2,
   "id": "87a0a790-d267-4bad-89b3-7b4c1935038c",
   "metadata": {},
   "outputs": [
    {
     "data": {
      "text/plain": [
       "0.961710147895049"
      ]
     },
     "execution_count": 2,
     "metadata": {},
     "output_type": "execute_result"
    }
   ],
   "source": [
    "#weight of equity= e/e+d\n",
    "\n",
    "weight_of_equity= (market_cap/(market_cap+total_debt))\n",
    "weight_of_equity"
   ]
  },
  {
   "cell_type": "code",
   "execution_count": 3,
   "id": "3acd9487-f165-42d6-b075-3431b053c0fb",
   "metadata": {},
   "outputs": [
    {
     "data": {
      "text/plain": [
       "0.13484480000000001"
      ]
     },
     "execution_count": 3,
     "metadata": {},
     "output_type": "execute_result"
    }
   ],
   "source": [
    "#cost of equity\n",
    "\n",
    "equity_risk_premium= 5.00 #source=(https://pages.stern.nyu.edu/~adamodar/New_Home_Page/datafile/ctryprem.html)\n",
    "risk_free_rate=7.11\n",
    "\n",
    "cost_of_equity=(risk_free_rate+beta*equity_risk_premium)/100\n",
    "cost_of_equity\n"
   ]
  },
  {
   "cell_type": "code",
   "execution_count": 4,
   "id": "f9d4abb3-e702-4136-b477-b56e8910cd9b",
   "metadata": {},
   "outputs": [
    {
     "data": {
      "text/plain": [
       "0.03828985210495097"
      ]
     },
     "execution_count": 4,
     "metadata": {},
     "output_type": "execute_result"
    }
   ],
   "source": [
    "#weight of debt = d/e+d\n",
    "\n",
    "weight_of_debt= (total_debt/(market_cap+total_debt))\n",
    "weight_of_debt\n"
   ]
  },
  {
   "cell_type": "code",
   "execution_count": 5,
   "id": "c9c5e1ba-50a7-41bd-a4ae-8277bbb4c2fc",
   "metadata": {},
   "outputs": [
    {
     "data": {
      "text/plain": [
       "0.021188597699540193"
      ]
     },
     "execution_count": 5,
     "metadata": {},
     "output_type": "execute_result"
    }
   ],
   "source": [
    "#cost of debt = (interest/total debt)(1-tax rate)\n",
    "\n",
    "tax_rate=0.21 #corporate tax rate of US\n",
    "cost_of_debt= (interest_expense/total_debt)*(1-tax_rate)\n",
    "cost_of_debt\n"
   ]
  },
  {
   "cell_type": "code",
   "execution_count": 6,
   "id": "37ab0bfa-0218-4bad-abd6-fadaedfe40ca",
   "metadata": {
    "scrolled": true
   },
   "outputs": [
    {
     "name": "stdout",
     "output_type": "stream",
     "text": [
      "The discount rate for AAPL is 13.05%\n"
     ]
    }
   ],
   "source": [
    "Discount_rate = round((weight_of_debt*cost_of_debt+weight_of_equity*cost_of_equity)*100,2)\n",
    "print(f\"The discount rate for {ticker_symbol} is {Discount_rate}%\")"
   ]
  },
  {
   "cell_type": "code",
   "execution_count": null,
   "id": "baf46249-475b-4790-ae25-400908894cc9",
   "metadata": {},
   "outputs": [],
   "source": []
  },
  {
   "cell_type": "code",
   "execution_count": null,
   "id": "1828fef8-bb79-4ee5-9cbc-76b357935125",
   "metadata": {},
   "outputs": [],
   "source": []
  },
  {
   "cell_type": "code",
   "execution_count": null,
   "id": "84b97e75-91b1-4ea0-a7f7-94632fd85af9",
   "metadata": {},
   "outputs": [],
   "source": []
  }
 ],
 "metadata": {
  "kernelspec": {
   "display_name": "Python 3 (ipykernel)",
   "language": "python",
   "name": "python3"
  },
  "language_info": {
   "codemirror_mode": {
    "name": "ipython",
    "version": 3
   },
   "file_extension": ".py",
   "mimetype": "text/x-python",
   "name": "python",
   "nbconvert_exporter": "python",
   "pygments_lexer": "ipython3",
   "version": "3.11.4"
  }
 },
 "nbformat": 4,
 "nbformat_minor": 5
}
